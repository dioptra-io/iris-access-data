{
 "cells": [
  {
   "cell_type": "code",
   "execution_count": 26,
   "metadata": {},
   "outputs": [],
   "source": [
    "from iris_client import IrisClient, AsyncIrisClient\n",
    "\n",
    "base_url = \"https://api.iris.dioptra.io\"\n",
    "\n",
    "# PUT YOUR CREDENTIALS HERE (DO NOT COMMIT)\n",
    "username = \"\"\n",
    "password = \"\"\n",
    "\n",
    "# Check out https://github.com/dioptra-io/iris-client for more info on IrisClient\n",
    "with IrisClient(base_url, username, password) as iris:\n",
    "    me = iris.get(\"/users/me/services\").json()\n",
    "    measurements = iris.all(\"/measurements/\", params={\"tag\": \"collection:exhaustive\", \"only_mine\": False})"
   ]
  },
  {
   "cell_type": "code",
   "execution_count": 27,
   "metadata": {},
   "outputs": [],
   "source": [
    "def format_uuid(uuid):\n",
    "    return uuid.replace(\"-\", \"_\")\n",
    "\n",
    "def get_tables(measurement):\n",
    "    return [\n",
    "        f\"results__{format_uuid(measurement['uuid'])}__{format_uuid(agent['agent_uuid'])}\" \n",
    "        for agent in measurement[\"agents\"]\n",
    "    ]\n",
    "\n",
    "tables = get_tables(measurements[0])"
   ]
  },
  {
   "cell_type": "code",
   "execution_count": 28,
   "metadata": {},
   "outputs": [],
   "source": [
    "credentials = dict(\n",
    "    base_url=me[\"clickhouse\"][\"base_url\"],\n",
    "    database=\"iris\",\n",
    "    username=me[\"clickhouse\"][\"username\"],\n",
    "    password=me[\"clickhouse\"][\"password\"]\n",
    ")"
   ]
  },
  {
   "cell_type": "code",
   "execution_count": 29,
   "metadata": {},
   "outputs": [
    {
     "name": "stdout",
     "output_type": "stream",
     "text": [
      "{'probe_src_addr': '::ffff:132.227.123.8', 'probe_dst_prefix': '::ffff:1.0.0.0', 'probe_ttl': 8, 'reply_src_addr': '::ffff:62.40.98.178'}\n",
      "{'probe_src_addr': '::ffff:132.227.123.8', 'probe_dst_prefix': '::ffff:1.0.0.0', 'probe_ttl': 11, 'reply_src_addr': '::ffff:141.101.71.2'}\n",
      "{'probe_src_addr': '::ffff:132.227.123.8', 'probe_dst_prefix': '::ffff:1.0.0.0', 'probe_ttl': 12, 'reply_src_addr': '::ffff:1.0.0.13'}\n",
      "{'probe_src_addr': '::ffff:132.227.123.8', 'probe_dst_prefix': '::ffff:1.0.0.0', 'probe_ttl': 13, 'reply_src_addr': '::ffff:1.0.0.13'}\n",
      "{'probe_src_addr': '::ffff:132.227.123.8', 'probe_dst_prefix': '::ffff:1.0.0.0', 'probe_ttl': 14, 'reply_src_addr': '::ffff:1.0.0.13'}\n",
      "{'probe_src_addr': '::ffff:132.227.123.8', 'probe_dst_prefix': '::ffff:1.0.0.0', 'probe_ttl': 15, 'reply_src_addr': '::ffff:1.0.0.13'}\n",
      "{'probe_src_addr': '::ffff:132.227.123.8', 'probe_dst_prefix': '::ffff:1.0.0.0', 'probe_ttl': 16, 'reply_src_addr': '::ffff:1.0.0.13'}\n",
      "{'probe_src_addr': '::ffff:132.227.123.8', 'probe_dst_prefix': '::ffff:1.0.0.0', 'probe_ttl': 17, 'reply_src_addr': '::ffff:1.0.0.13'}\n",
      "{'probe_src_addr': '::ffff:132.227.123.8', 'probe_dst_prefix': '::ffff:1.0.0.0', 'probe_ttl': 18, 'reply_src_addr': '::ffff:1.0.0.13'}\n",
      "{'probe_src_addr': '::ffff:132.227.123.8', 'probe_dst_prefix': '::ffff:1.0.0.0', 'probe_ttl': 19, 'reply_src_addr': '::ffff:1.0.0.13'}\n"
     ]
    }
   ],
   "source": [
    "from pych_client import ClickHouseClient\n",
    "\n",
    "# Check out https://github.com/dioptra-io/pych-client for more info on ClickHouseClient\n",
    "with ClickHouseClient(**credentials) as client:\n",
    "    for row in client.iter_json(\n",
    "        f\"SELECT probe_src_addr, probe_dst_prefix, probe_ttl, reply_src_addr FROM {tables[0]} LIMIT 10\"\n",
    "    ):\n",
    "        print(row)"
   ]
  }
 ],
 "metadata": {
  "kernelspec": {
   "display_name": "Python 3.10.3 ('iris-access-data-za9okYxX-py3.10')",
   "language": "python",
   "name": "python3"
  },
  "language_info": {
   "codemirror_mode": {
    "name": "ipython",
    "version": 3
   },
   "file_extension": ".py",
   "mimetype": "text/x-python",
   "name": "python",
   "nbconvert_exporter": "python",
   "pygments_lexer": "ipython3",
   "version": "3.10.3"
  },
  "orig_nbformat": 4,
  "vscode": {
   "interpreter": {
    "hash": "315534a7b8f5dfca251c0da6335973a8eace973c5610dab2ab8608d1680b17af"
   }
  }
 },
 "nbformat": 4,
 "nbformat_minor": 2
}

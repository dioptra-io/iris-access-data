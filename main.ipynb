{
 "cells": [
  {
   "cell_type": "markdown",
   "metadata": {},
   "source": [
    "# How to access to Iris data? \n",
    "\n",
    "In this example, we will show how to access to Iris data in Python via SQL queries.  \n",
    "In particular, we will select the reply data of the last measurement of the Iris's exhaustive data series."
   ]
  },
  {
   "cell_type": "code",
   "execution_count": 43,
   "metadata": {},
   "outputs": [],
   "source": [
    "import os\n",
    "from iris_client import IrisClient, AsyncIrisClient\n",
    "\n",
    "\n",
    "# Iris credentials\n",
    "base_url = \"https://api.iris.dioptra.io\"\n",
    "username = os.environ.get(\"IRIS_USERNAME\")\n",
    "password = os.environ.get(\"IRIS_PASSWORD\")\n",
    "if not username or not password:\n",
    "    raise ValueError(\"IRIS_USERNAME and IRIS_PASSWORD environment variables must be set\")\n",
    "\n",
    "# Check out https://github.com/dioptra-io/iris-client for more info on IrisClient\n",
    "with IrisClient(base_url, username, password) as iris:\n",
    "    measurements = iris.all(\"/measurements/public\", params={\"tag\": \"collection:exhaustive\"})"
   ]
  },
  {
   "cell_type": "code",
   "execution_count": 44,
   "metadata": {},
   "outputs": [],
   "source": [
    "# We select the measurement we want to query (newest measurement)\n",
    "measurement = measurements[0]"
   ]
  },
  {
   "cell_type": "code",
   "execution_count": 45,
   "metadata": {},
   "outputs": [],
   "source": [
    "# Get temporary access token to the database for this measurement\n",
    "with IrisClient(base_url, username, password) as iris:\n",
    "    me = iris.get(\"/users/me/services\", params={\"measurement_uuid\": measurement[\"uuid\"]}).json()\n",
    "    credentials = dict(\n",
    "        base_url=me[\"clickhouse\"][\"base_url\"],\n",
    "        database=\"iris\",\n",
    "        username=me[\"clickhouse\"][\"username\"],\n",
    "        password=me[\"clickhouse\"][\"password\"]\n",
    "    )"
   ]
  },
  {
   "cell_type": "code",
   "execution_count": 46,
   "metadata": {},
   "outputs": [],
   "source": [
    "def format_uuid(uuid):\n",
    "    return uuid.replace(\"-\", \"_\")\n",
    "\n",
    "def get_tables(measurement, data_type=\"results\"):\n",
    "    \"\"\"\n",
    "    Get the table of each agent in the measurement.\n",
    "    \"\"\"\n",
    "    return [\n",
    "        f\"{data_type}__{format_uuid(measurement['uuid'])}__{format_uuid(agent['agent_uuid'])}\" \n",
    "        for agent in measurement[\"agents\"]\n",
    "    ]"
   ]
  },
  {
   "cell_type": "code",
   "execution_count": 47,
   "metadata": {},
   "outputs": [],
   "source": [
    "# Get reply table names for this measurement\n",
    "tables = get_tables(measurement)"
   ]
  },
  {
   "cell_type": "code",
   "execution_count": 48,
   "metadata": {},
   "outputs": [
    {
     "name": "stdout",
     "output_type": "stream",
     "text": [
      "{'probe_src_addr': '::ffff:132.227.123.8', 'probe_dst_prefix': '::ffff:1.0.0.0', 'probe_ttl': 8, 'reply_src_addr': '::ffff:62.40.98.178'}\n",
      "{'probe_src_addr': '::ffff:132.227.123.8', 'probe_dst_prefix': '::ffff:1.0.0.0', 'probe_ttl': 11, 'reply_src_addr': '::ffff:141.101.71.2'}\n",
      "{'probe_src_addr': '::ffff:132.227.123.8', 'probe_dst_prefix': '::ffff:1.0.0.0', 'probe_ttl': 12, 'reply_src_addr': '::ffff:1.0.0.13'}\n",
      "{'probe_src_addr': '::ffff:132.227.123.8', 'probe_dst_prefix': '::ffff:1.0.0.0', 'probe_ttl': 13, 'reply_src_addr': '::ffff:1.0.0.13'}\n",
      "{'probe_src_addr': '::ffff:132.227.123.8', 'probe_dst_prefix': '::ffff:1.0.0.0', 'probe_ttl': 14, 'reply_src_addr': '::ffff:1.0.0.13'}\n",
      "{'probe_src_addr': '::ffff:132.227.123.8', 'probe_dst_prefix': '::ffff:1.0.0.0', 'probe_ttl': 15, 'reply_src_addr': '::ffff:1.0.0.13'}\n",
      "{'probe_src_addr': '::ffff:132.227.123.8', 'probe_dst_prefix': '::ffff:1.0.0.0', 'probe_ttl': 16, 'reply_src_addr': '::ffff:1.0.0.13'}\n",
      "{'probe_src_addr': '::ffff:132.227.123.8', 'probe_dst_prefix': '::ffff:1.0.0.0', 'probe_ttl': 17, 'reply_src_addr': '::ffff:1.0.0.13'}\n",
      "{'probe_src_addr': '::ffff:132.227.123.8', 'probe_dst_prefix': '::ffff:1.0.0.0', 'probe_ttl': 18, 'reply_src_addr': '::ffff:1.0.0.13'}\n",
      "{'probe_src_addr': '::ffff:132.227.123.8', 'probe_dst_prefix': '::ffff:1.0.0.0', 'probe_ttl': 19, 'reply_src_addr': '::ffff:1.0.0.13'}\n"
     ]
    }
   ],
   "source": [
    "from pych_client import ClickHouseClient\n",
    "\n",
    "# Check out https://github.com/dioptra-io/pych-client for more info on ClickHouseClient\n",
    "with ClickHouseClient(**credentials) as client:\n",
    "    for row in client.iter_json(\n",
    "        f\"SELECT probe_src_addr, probe_dst_prefix, probe_ttl, reply_src_addr FROM {tables[0]} LIMIT 10\"\n",
    "    ):\n",
    "        print(row)"
   ]
  }
 ],
 "metadata": {
  "kernelspec": {
   "display_name": "Python 3.10.3 ('iris-access-data-za9okYxX-py3.10')",
   "language": "python",
   "name": "python3"
  },
  "language_info": {
   "codemirror_mode": {
    "name": "ipython",
    "version": 3
   },
   "file_extension": ".py",
   "mimetype": "text/x-python",
   "name": "python",
   "nbconvert_exporter": "python",
   "pygments_lexer": "ipython3",
   "version": "3.10.3"
  },
  "orig_nbformat": 4,
  "vscode": {
   "interpreter": {
    "hash": "315534a7b8f5dfca251c0da6335973a8eace973c5610dab2ab8608d1680b17af"
   }
  }
 },
 "nbformat": 4,
 "nbformat_minor": 2
}
